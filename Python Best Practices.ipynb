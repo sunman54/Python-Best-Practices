{
 "cells": [
  {
   "cell_type": "markdown",
   "id": "6563a934",
   "metadata": {},
   "source": [
    "# Python Best Practices P1"
   ]
  },
  {
   "cell_type": "markdown",
   "id": "0b03617b",
   "metadata": {},
   "source": [
    "### 1- List Enumerating"
   ]
  },
  {
   "cell_type": "code",
   "execution_count": 1,
   "id": "53c9dd09",
   "metadata": {},
   "outputs": [],
   "source": [
    "liste = [1,2,3,0,-3,-5]"
   ]
  },
  {
   "cell_type": "code",
   "execution_count": 2,
   "id": "c504a413",
   "metadata": {},
   "outputs": [
    {
     "name": "stdout",
     "output_type": "stream",
     "text": [
      "i :  0\n",
      "i :  1\n",
      "i :  2\n",
      "i :  3\n",
      "i :  4\n",
      "i :  5\n"
     ]
    }
   ],
   "source": [
    "for i, j in enumerate(liste):\n",
    "    print('i : ', i)"
   ]
  },
  {
   "cell_type": "code",
   "execution_count": 3,
   "id": "73a3b365",
   "metadata": {},
   "outputs": [
    {
     "name": "stdout",
     "output_type": "stream",
     "text": [
      "j :  1\n",
      "j :  2\n",
      "j :  3\n",
      "j :  0\n",
      "j :  -3\n",
      "j :  -5\n"
     ]
    }
   ],
   "source": [
    "for i, j in enumerate(liste):\n",
    "    print('j : ', j)"
   ]
  },
  {
   "cell_type": "markdown",
   "id": "9ebb6ddb",
   "metadata": {},
   "source": [
    "### 2- List Comprehension"
   ]
  },
  {
   "cell_type": "code",
   "execution_count": 4,
   "id": "654ea6bd",
   "metadata": {},
   "outputs": [],
   "source": [
    "squares = []\n",
    "\n",
    "for i in range(10):\n",
    "    squares.append(i*i)"
   ]
  },
  {
   "cell_type": "code",
   "execution_count": 5,
   "id": "f64d2434",
   "metadata": {},
   "outputs": [
    {
     "data": {
      "text/plain": [
       "[0, 1, 4, 9, 16, 25, 36, 49, 64, 81]"
      ]
     },
     "execution_count": 5,
     "metadata": {},
     "output_type": "execute_result"
    }
   ],
   "source": [
    "squares"
   ]
  },
  {
   "cell_type": "code",
   "execution_count": 6,
   "id": "4505182e",
   "metadata": {},
   "outputs": [],
   "source": [
    "best_squares = [i*i for i in range(10)]"
   ]
  },
  {
   "cell_type": "code",
   "execution_count": 7,
   "id": "814f9522",
   "metadata": {},
   "outputs": [
    {
     "data": {
      "text/plain": [
       "[0, 1, 4, 9, 16, 25, 36, 49, 64, 81]"
      ]
     },
     "execution_count": 7,
     "metadata": {},
     "output_type": "execute_result"
    }
   ],
   "source": [
    "best_squares"
   ]
  },
  {
   "cell_type": "markdown",
   "id": "ee848df8",
   "metadata": {},
   "source": [
    "### 3- Data Sorting"
   ]
  },
  {
   "cell_type": "code",
   "execution_count": 8,
   "id": "38549bea",
   "metadata": {},
   "outputs": [],
   "source": [
    "data = [\n",
    "    {'name' : 'melih','surname' : 'sunman','age' : 22 , 'success' : 5},\n",
    "    {'name' : 'alper','surname' : 'sunman','age' : 19 , 'success' : 3},\n",
    "    {'name' : 'tamer','surname' : 'sunman','age' : 13 , 'success' : 7},\n",
    "    {'name' : 'zümra','surname' : 'sunman','age' : 1 , 'success' : 0},\n",
    "]"
   ]
  },
  {
   "cell_type": "code",
   "execution_count": 9,
   "id": "22d5797d",
   "metadata": {},
   "outputs": [],
   "source": [
    "sorted_data = sorted(data, key = lambda x : x['success'], reverse = True)"
   ]
  },
  {
   "cell_type": "code",
   "execution_count": 10,
   "id": "4e2099c5",
   "metadata": {},
   "outputs": [
    {
     "data": {
      "text/plain": [
       "[{'name': 'tamer', 'surname': 'sunman', 'age': 13, 'success': 7},\n",
       " {'name': 'melih', 'surname': 'sunman', 'age': 22, 'success': 5},\n",
       " {'name': 'alper', 'surname': 'sunman', 'age': 19, 'success': 3},\n",
       " {'name': 'zümra', 'surname': 'sunman', 'age': 1, 'success': 0}]"
      ]
     },
     "execution_count": 10,
     "metadata": {},
     "output_type": "execute_result"
    }
   ],
   "source": [
    "sorted_data"
   ]
  },
  {
   "cell_type": "code",
   "execution_count": 11,
   "id": "3dea5433",
   "metadata": {},
   "outputs": [],
   "source": [
    "sorted_data = sorted(data, key = lambda x : x['age'])"
   ]
  },
  {
   "cell_type": "code",
   "execution_count": 12,
   "id": "9ebfa9f4",
   "metadata": {},
   "outputs": [
    {
     "data": {
      "text/plain": [
       "[{'name': 'zümra', 'surname': 'sunman', 'age': 1, 'success': 0},\n",
       " {'name': 'tamer', 'surname': 'sunman', 'age': 13, 'success': 7},\n",
       " {'name': 'alper', 'surname': 'sunman', 'age': 19, 'success': 3},\n",
       " {'name': 'melih', 'surname': 'sunman', 'age': 22, 'success': 5}]"
      ]
     },
     "execution_count": 12,
     "metadata": {},
     "output_type": "execute_result"
    }
   ],
   "source": [
    "sorted_data"
   ]
  },
  {
   "cell_type": "markdown",
   "id": "252a00d3",
   "metadata": {},
   "source": [
    "### 4- Save Memory with GENERATOR"
   ]
  },
  {
   "cell_type": "code",
   "execution_count": 13,
   "id": "f6c1dad5",
   "metadata": {},
   "outputs": [],
   "source": [
    "import sys"
   ]
  },
  {
   "cell_type": "code",
   "execution_count": 14,
   "id": "4c4e6838",
   "metadata": {},
   "outputs": [],
   "source": [
    "l1 = [x for x in range(99999)]"
   ]
  },
  {
   "cell_type": "code",
   "execution_count": 15,
   "id": "135afea6",
   "metadata": {},
   "outputs": [
    {
     "data": {
      "text/plain": [
       "4999850001"
      ]
     },
     "execution_count": 15,
     "metadata": {},
     "output_type": "execute_result"
    }
   ],
   "source": [
    "sum(l1)"
   ]
  },
  {
   "cell_type": "code",
   "execution_count": 16,
   "id": "22265942",
   "metadata": {},
   "outputs": [],
   "source": [
    "l2 = (x for x in range(99999))"
   ]
  },
  {
   "cell_type": "code",
   "execution_count": 17,
   "id": "1802ceaa",
   "metadata": {},
   "outputs": [
    {
     "data": {
      "text/plain": [
       "4999850001"
      ]
     },
     "execution_count": 17,
     "metadata": {},
     "output_type": "execute_result"
    }
   ],
   "source": [
    "sum(l2)"
   ]
  },
  {
   "cell_type": "code",
   "execution_count": 18,
   "id": "6a3c9f06",
   "metadata": {},
   "outputs": [
    {
     "data": {
      "text/plain": [
       "(800984, 'bytes')"
      ]
     },
     "execution_count": 18,
     "metadata": {},
     "output_type": "execute_result"
    }
   ],
   "source": [
    "sys.getsizeof(l1), 'bytes'"
   ]
  },
  {
   "cell_type": "code",
   "execution_count": 19,
   "id": "dca0a5ca",
   "metadata": {},
   "outputs": [
    {
     "data": {
      "text/plain": [
       "(104, 'bytes')"
      ]
     },
     "execution_count": 19,
     "metadata": {},
     "output_type": "execute_result"
    }
   ],
   "source": [
    "sys.getsizeof(l2), 'bytes'"
   ]
  },
  {
   "cell_type": "markdown",
   "id": "eb7274d1",
   "metadata": {},
   "source": [
    "### 5- Collection Counter"
   ]
  },
  {
   "cell_type": "code",
   "execution_count": 20,
   "id": "804ea855",
   "metadata": {},
   "outputs": [],
   "source": [
    "from collections import Counter"
   ]
  },
  {
   "cell_type": "code",
   "execution_count": 21,
   "id": "9315a174",
   "metadata": {},
   "outputs": [],
   "source": [
    "liste = [1,1,2,3,5,5,5,6,7,9,9,4,3,2,1,5,6,4,5,6,8,3,6,5]"
   ]
  },
  {
   "cell_type": "code",
   "execution_count": 22,
   "id": "319398cc",
   "metadata": {},
   "outputs": [],
   "source": [
    "counter = Counter(liste)"
   ]
  },
  {
   "cell_type": "code",
   "execution_count": 23,
   "id": "fac2c855",
   "metadata": {},
   "outputs": [
    {
     "data": {
      "text/plain": [
       "Counter({1: 3, 2: 2, 3: 3, 5: 6, 6: 4, 7: 1, 9: 2, 4: 2, 8: 1})"
      ]
     },
     "execution_count": 23,
     "metadata": {},
     "output_type": "execute_result"
    }
   ],
   "source": [
    "counter"
   ]
  },
  {
   "cell_type": "code",
   "execution_count": 24,
   "id": "6c28c363",
   "metadata": {},
   "outputs": [
    {
     "name": "stdout",
     "output_type": "stream",
     "text": [
      "1  :  3\n",
      "2  :  2\n",
      "3  :  3\n",
      "5  :  6\n",
      "6  :  4\n",
      "7  :  1\n",
      "9  :  2\n",
      "4  :  2\n",
      "8  :  1\n"
     ]
    }
   ],
   "source": [
    "for i in counter:\n",
    "    print(i, ' : ', counter.get(i))"
   ]
  },
  {
   "cell_type": "code",
   "execution_count": 25,
   "id": "ac0bf8c4",
   "metadata": {
    "scrolled": true
   },
   "outputs": [
    {
     "data": {
      "text/plain": [
       "[(5, 6), (6, 4), (1, 3)]"
      ]
     },
     "execution_count": 25,
     "metadata": {},
     "output_type": "execute_result"
    }
   ],
   "source": [
    "counter.most_common(3)"
   ]
  },
  {
   "cell_type": "markdown",
   "id": "c23804c2",
   "metadata": {},
   "source": [
    "### 6- f'Strings"
   ]
  },
  {
   "cell_type": "code",
   "execution_count": 26,
   "id": "1a8264a9",
   "metadata": {},
   "outputs": [],
   "source": [
    "name = \"Melih\"\n",
    "age = 22"
   ]
  },
  {
   "cell_type": "code",
   "execution_count": 27,
   "id": "8699234d",
   "metadata": {},
   "outputs": [
    {
     "name": "stdout",
     "output_type": "stream",
     "text": [
      "Hello my name is Melih, I'm 22 years old \n"
     ]
    }
   ],
   "source": [
    "print(f\"Hello my name is {name}, I'm {age} years old \")"
   ]
  },
  {
   "cell_type": "code",
   "execution_count": 28,
   "id": "9bf28991",
   "metadata": {},
   "outputs": [
    {
     "name": "stdout",
     "output_type": "stream",
     "text": [
      "3 times 3 is 9\n"
     ]
    }
   ],
   "source": [
    "x = 3\n",
    "\n",
    "print(f\"{x} times {x} is {x*x}\")"
   ]
  },
  {
   "cell_type": "markdown",
   "id": "28254dc2",
   "metadata": {},
   "source": [
    "### 7- Merge Dictioneries"
   ]
  },
  {
   "cell_type": "code",
   "execution_count": 29,
   "id": "bcd733d7",
   "metadata": {},
   "outputs": [],
   "source": [
    "d1 = {\"name\": \"AlEx\", \"age\": 25}\n",
    "d2 = {\"name\": \"AleX\", \"city\": \"New York\"}\n",
    "merged_dict = d1 | d2"
   ]
  },
  {
   "cell_type": "code",
   "execution_count": 30,
   "id": "c3aa0418",
   "metadata": {},
   "outputs": [
    {
     "data": {
      "text/plain": [
       "{'name': 'AleX', 'age': 25, 'city': 'New York'}"
      ]
     },
     "execution_count": 30,
     "metadata": {},
     "output_type": "execute_result"
    }
   ],
   "source": [
    "merged_dict"
   ]
  },
  {
   "cell_type": "markdown",
   "id": "84d5dfde",
   "metadata": {},
   "source": [
    "### 8- List to String .join()"
   ]
  },
  {
   "cell_type": "code",
   "execution_count": 31,
   "id": "d6c8863b",
   "metadata": {},
   "outputs": [],
   "source": [
    "me = ['Melih', 'Sunman']\n",
    "joined = ' '.join(me)"
   ]
  },
  {
   "cell_type": "code",
   "execution_count": 32,
   "id": "fd363be1",
   "metadata": {},
   "outputs": [
    {
     "data": {
      "text/plain": [
       "'Melih Sunman'"
      ]
     },
     "execution_count": 32,
     "metadata": {},
     "output_type": "execute_result"
    }
   ],
   "source": [
    "joined"
   ]
  },
  {
   "cell_type": "markdown",
   "id": "7162b8c6",
   "metadata": {},
   "source": [
    "### 9-  Args and Kwargs"
   ]
  },
  {
   "cell_type": "code",
   "execution_count": 33,
   "id": "b9e5c6a4",
   "metadata": {},
   "outputs": [],
   "source": [
    "def list_to_dict(*args):\n",
    "    d1 = {}\n",
    "    for i,j in enumerate(args):\n",
    "        d1[i] = j\n",
    "    \n",
    "    return d1"
   ]
  },
  {
   "cell_type": "code",
   "execution_count": 34,
   "id": "9f540619",
   "metadata": {},
   "outputs": [
    {
     "data": {
      "text/plain": [
       "{0: 9, 1: 8, 2: 7, 3: 6, 4: 5, 5: 4}"
      ]
     },
     "execution_count": 34,
     "metadata": {},
     "output_type": "execute_result"
    }
   ],
   "source": [
    "list_to_dict(9,8,7,6,5,4)"
   ]
  },
  {
   "cell_type": "code",
   "execution_count": 35,
   "id": "a3c6f8cc",
   "metadata": {},
   "outputs": [
    {
     "name": "stdout",
     "output_type": "stream",
     "text": [
      "{'x': 1, 'y': 2}\n"
     ]
    }
   ],
   "source": [
    "def kwargs(**kwargs):\n",
    "    print(kwargs)\n",
    "kwargs(x=1,y=2)"
   ]
  },
  {
   "cell_type": "code",
   "execution_count": 36,
   "id": "27d3ab92",
   "metadata": {
    "scrolled": true
   },
   "outputs": [
    {
     "name": "stdout",
     "output_type": "stream",
     "text": [
      "(1, 2, 3, 4, 5, 6)\n"
     ]
    }
   ],
   "source": [
    "def args(*args):\n",
    "    print(args)\n",
    "    \n",
    "args(1,2,3,4,5,6)"
   ]
  },
  {
   "cell_type": "code",
   "execution_count": 37,
   "id": "78d1df60",
   "metadata": {},
   "outputs": [
    {
     "name": "stdout",
     "output_type": "stream",
     "text": [
      "(1, 2, 3, 4, 5)\n"
     ]
    }
   ],
   "source": [
    "def foo(*liste):\n",
    "    print(liste)\n",
    "foo(1,2,3,4,5)"
   ]
  },
  {
   "cell_type": "code",
   "execution_count": 38,
   "id": "e6f9ed67",
   "metadata": {},
   "outputs": [
    {
     "name": "stdout",
     "output_type": "stream",
     "text": [
      "{'x': 1, 'y': 2, 'z': 3}\n"
     ]
    }
   ],
   "source": [
    "def foo2(**dic):\n",
    "    print(dic)\n",
    "foo2(x = 1, y = 2, z = 3)"
   ]
  },
  {
   "cell_type": "markdown",
   "id": "30aa6b96",
   "metadata": {},
   "source": [
    "### 10- File Operations"
   ]
  },
  {
   "cell_type": "markdown",
   "id": "2614b02b",
   "metadata": {},
   "source": [
    "This operation close file automatically so you dont need use file.close()"
   ]
  },
  {
   "cell_type": "code",
   "execution_count": 39,
   "id": "1a1d3deb",
   "metadata": {},
   "outputs": [
    {
     "name": "stdout",
     "output_type": "stream",
     "text": [
      "Korkma, sönmez bu şafaklarda yüzen al sancak;\r\n",
      "\n",
      "Sönmeden yurdumun üstünde tüten en son ocak.\r\n",
      "\n",
      "O benim milletimin yıldızıdır, parlayacak;\r\n",
      "\n",
      "O benimdir, o benim milletimindir ancak.\r\n",
      "\n",
      "\r\n",
      "\n",
      "Çatma, kurban olayım çehreni ey nazlı hilâl!\r\n",
      "\n",
      "Kahraman ırkıma bir gül… ne bu şiddet bu celâl?\r\n",
      "\n",
      "Sana olmaz dökülen kanlarımız sonra helâl,\r\n",
      "\n",
      "Hakkıdır, Hakk’a tapan, milletimin istiklâl.\r\n",
      "\n"
     ]
    }
   ],
   "source": [
    "import codecs\n",
    "with codecs.open(\"file.txt\", \"r\", \"utf-8-sig\") as file:\n",
    "    for i in file.readlines():\n",
    "        print(i)"
   ]
  },
  {
   "cell_type": "markdown",
   "id": "24aa5b41",
   "metadata": {},
   "source": [
    "### 11- Checking Function Arguments"
   ]
  },
  {
   "cell_type": "code",
   "execution_count": 40,
   "id": "432933b3",
   "metadata": {},
   "outputs": [],
   "source": [
    " #Checking if 'z' send or not\n",
    "def foo(x, y, z=None):\n",
    "    if z!= None:\n",
    "        print('z is provided')\n",
    "    else:\n",
    "        print('z is not provided')"
   ]
  },
  {
   "cell_type": "code",
   "execution_count": 41,
   "id": "48332287",
   "metadata": {},
   "outputs": [
    {
     "name": "stdout",
     "output_type": "stream",
     "text": [
      "z is provided\n"
     ]
    }
   ],
   "source": [
    "foo(1,2,3)"
   ]
  },
  {
   "cell_type": "code",
   "execution_count": 42,
   "id": "ecf40689",
   "metadata": {},
   "outputs": [
    {
     "name": "stdout",
     "output_type": "stream",
     "text": [
      "z is not provided\n"
     ]
    }
   ],
   "source": [
    "foo(1,2)"
   ]
  },
  {
   "cell_type": "markdown",
   "id": "d596ef07",
   "metadata": {},
   "source": [
    "### 12- Checking Varible Types "
   ]
  },
  {
   "cell_type": "code",
   "execution_count": 43,
   "id": "a85d1d49",
   "metadata": {},
   "outputs": [],
   "source": [
    "var1 = 3"
   ]
  },
  {
   "cell_type": "code",
   "execution_count": 44,
   "id": "ccfe69b7",
   "metadata": {},
   "outputs": [
    {
     "name": "stdout",
     "output_type": "stream",
     "text": [
      "var1 is int\n"
     ]
    }
   ],
   "source": [
    "# That's wrong method\n",
    "\n",
    "if type(var1) == int:\n",
    "    print('var1 is int')"
   ]
  },
  {
   "cell_type": "code",
   "execution_count": 45,
   "id": "94cd1f30",
   "metadata": {},
   "outputs": [
    {
     "name": "stdout",
     "output_type": "stream",
     "text": [
      "var1 is int\n"
     ]
    }
   ],
   "source": [
    "# That's the right method\n",
    "\n",
    "if isinstance(var1, int):\n",
    "    print('var1 is int')"
   ]
  },
  {
   "cell_type": "markdown",
   "id": "750cac30",
   "metadata": {},
   "source": [
    "### 13- Zip Function on Lists "
   ]
  },
  {
   "cell_type": "code",
   "execution_count": 46,
   "id": "8305c657",
   "metadata": {},
   "outputs": [],
   "source": [
    "li1 = [1,2,3,4,5]\n",
    "li2 = [\"a\", \"b\", \"c\", \"d\"]"
   ]
  },
  {
   "cell_type": "code",
   "execution_count": 47,
   "id": "a38a7580",
   "metadata": {},
   "outputs": [
    {
     "name": "stdout",
     "output_type": "stream",
     "text": [
      "1\n",
      "a\n",
      "2\n",
      "b\n",
      "3\n",
      "c\n",
      "4\n",
      "d\n"
     ]
    }
   ],
   "source": [
    "for i,j in zip(li1, li2):\n",
    "    print(i)\n",
    "    print(j)"
   ]
  },
  {
   "cell_type": "markdown",
   "id": "eb46b0b4",
   "metadata": {},
   "source": [
    "### 14- Getting Dictionaries Items (keys and values)"
   ]
  },
  {
   "cell_type": "code",
   "execution_count": 48,
   "id": "9d0bdb39",
   "metadata": {},
   "outputs": [
    {
     "data": {
      "text/plain": [
       "{'name': 'AleX', 'age': 25, 'city': 'New York'}"
      ]
     },
     "execution_count": 48,
     "metadata": {},
     "output_type": "execute_result"
    }
   ],
   "source": [
    "merged_dict"
   ]
  },
  {
   "cell_type": "code",
   "execution_count": 49,
   "id": "4e0f76f2",
   "metadata": {},
   "outputs": [
    {
     "name": "stdout",
     "output_type": "stream",
     "text": [
      "name : AleX\n",
      "age : 25\n",
      "city : New York\n"
     ]
    }
   ],
   "source": [
    "for i,j in merged_dict.items():\n",
    "    print(f'{i} : {j}')"
   ]
  },
  {
   "cell_type": "markdown",
   "id": "3956cf3a",
   "metadata": {},
   "source": [
    "### 15- Every int equals true except 0"
   ]
  },
  {
   "cell_type": "code",
   "execution_count": 50,
   "id": "743c4e55",
   "metadata": {},
   "outputs": [],
   "source": [
    "m = 1\n",
    "n = 0"
   ]
  },
  {
   "cell_type": "code",
   "execution_count": 51,
   "id": "e7454f59",
   "metadata": {},
   "outputs": [
    {
     "name": "stdout",
     "output_type": "stream",
     "text": [
      "m is True\n"
     ]
    }
   ],
   "source": [
    "if m :\n",
    "    print('m is True')\n",
    "else:\n",
    "    print('n is False')"
   ]
  },
  {
   "cell_type": "code",
   "execution_count": 52,
   "id": "3d940464",
   "metadata": {},
   "outputs": [
    {
     "name": "stdout",
     "output_type": "stream",
     "text": [
      "n is False\n"
     ]
    }
   ],
   "source": [
    "if n:\n",
    "    print('n is True')\n",
    "else:\n",
    "    print('n is False')"
   ]
  },
  {
   "cell_type": "code",
   "execution_count": 53,
   "id": "784ea30a",
   "metadata": {},
   "outputs": [
    {
     "data": {
      "text/plain": [
       "True"
      ]
     },
     "execution_count": 53,
     "metadata": {},
     "output_type": "execute_result"
    }
   ],
   "source": [
    "bool(99)"
   ]
  },
  {
   "cell_type": "markdown",
   "id": "2639ee6d",
   "metadata": {},
   "source": [
    "### 16- Tuple / List Unpacking"
   ]
  },
  {
   "cell_type": "code",
   "execution_count": 54,
   "id": "ae12a7fc",
   "metadata": {},
   "outputs": [],
   "source": [
    "liste2 = [1,2,3]\n",
    "tuple1 = ('x', 'y', 'y')"
   ]
  },
  {
   "cell_type": "code",
   "execution_count": 55,
   "id": "52f15730",
   "metadata": {},
   "outputs": [],
   "source": [
    "a, b, c = liste2 "
   ]
  },
  {
   "cell_type": "code",
   "execution_count": 56,
   "id": "9668ff6b",
   "metadata": {},
   "outputs": [],
   "source": [
    "d, e, f = tuple1"
   ]
  },
  {
   "cell_type": "code",
   "execution_count": 57,
   "id": "56e9945a",
   "metadata": {},
   "outputs": [
    {
     "name": "stdout",
     "output_type": "stream",
     "text": [
      "1 2 3\n",
      "x y y\n"
     ]
    }
   ],
   "source": [
    "print(a,b,c)\n",
    "print(d,e,f)"
   ]
  },
  {
   "cell_type": "markdown",
   "id": "4172e99c",
   "metadata": {},
   "source": [
    "### 17- Time Measurement"
   ]
  },
  {
   "cell_type": "code",
   "execution_count": 58,
   "id": "e36860bb",
   "metadata": {},
   "outputs": [],
   "source": [
    "import time"
   ]
  },
  {
   "cell_type": "code",
   "execution_count": 59,
   "id": "f9bc0c49",
   "metadata": {},
   "outputs": [
    {
     "name": "stdout",
     "output_type": "stream",
     "text": [
      "1.0150609016418457\n"
     ]
    }
   ],
   "source": [
    "start =time.time()\n",
    "time.sleep(1)\n",
    "end =time.time()\n",
    "print(end-start)"
   ]
  },
  {
   "cell_type": "code",
   "execution_count": 60,
   "id": "7b7d9728",
   "metadata": {},
   "outputs": [
    {
     "name": "stdout",
     "output_type": "stream",
     "text": [
      "1.00584710000021\n"
     ]
    }
   ],
   "source": [
    "start =time.perf_counter()\n",
    "time.sleep(1)\n",
    "end =time.perf_counter()\n",
    "print(end-start)"
   ]
  }
 ],
 "metadata": {
  "kernelspec": {
   "display_name": "Python 3 (ipykernel)",
   "language": "python",
   "name": "python3"
  },
  "language_info": {
   "codemirror_mode": {
    "name": "ipython",
    "version": 3
   },
   "file_extension": ".py",
   "mimetype": "text/x-python",
   "name": "python",
   "nbconvert_exporter": "python",
   "pygments_lexer": "ipython3",
   "version": "3.10.6"
  }
 },
 "nbformat": 4,
 "nbformat_minor": 5
}
